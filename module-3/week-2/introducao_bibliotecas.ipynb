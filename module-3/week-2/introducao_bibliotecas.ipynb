{
 "cells": [
  {
   "cell_type": "code",
   "execution_count": 3,
   "id": "e420279e",
   "metadata": {},
   "outputs": [],
   "source": [
    "import pandas as pd\n",
    "import numpy as np\n",
    "import matplotlib.pyplot as plt\n",
    "import seaborn as sns\n",
    "\n",
    "url = \"https://raw.githubusercontent.com/datasciencedojo/datasets/master/titanic.csv\"\n",
    "df = pd.read_csv(url)"
   ]
  },
  {
   "cell_type": "markdown",
   "id": "7244b221",
   "metadata": {},
   "source": [
    "Sobre visão geral e univariada\n",
    "1. Quantos registros e colunas existem na base?\n",
    "2. Quais colunas são numéricas e quais são categóricas?\n",
    "3. Quais colunas possuem valores nulos?\n",
    "4. Qual o percentual de valores nulos em cada uma?\n",
    "5. Qual é a idade média dos passageiros?\n",
    "6. E a mediana?\n",
    "7. Qual é a tarifa média paga (Fare) e qual foi a tarifa mais alta?\n",
    "8. Qual porto de embarque (Embarked) teve mais passageiros?\n",
    "9. Qual a proporção de homens e mulheres a bordo?\n",
    "10. Qual é a distribuição de passageiros por classe (Pclass)?"
   ]
  },
  {
   "cell_type": "code",
   "execution_count": null,
   "id": "31aa8963",
   "metadata": {},
   "outputs": [
    {
     "name": "stdout",
     "output_type": "stream",
     "text": [
      "Número de registros e colunas: 891\n"
     ]
    }
   ],
   "source": [
    "# 1. Quantos registros e colunas existem na base?\n",
    "print(f\"Número de registros e colunas: {len(df)}\")\n",
    "\n",
    "# 2. Quais colunas são numéricas e quais são categóricas?"
   ]
  },
  {
   "cell_type": "markdown",
   "id": "4db4bf3f",
   "metadata": {},
   "source": [
    "Sobre bivariada (relações entre variáveis)\n",
    "1. Passageiros de qual classe pagaram as tarifas mais caras?\n",
    "2. Existe sobreposição entre as classes?\n",
    "3. Qual a taxa de sobrevivência geral e por sexo?\n",
    "4. Qual a taxa de sobrevivência por classe de passagem (Pclass)?\n",
    "5. Existe relação entre idade e sobrevivência?\n",
    "6. Passageiros que embarcaram em diferentes portos (Embarked) tiveram taxas de\n",
    "sobrevivência diferentes?\n",
    "7. Existe relação entre o número de familiares a bordo (SibSp + Parch) e a\n",
    "sobrevivência?\n",
    "8. Passageiros mais velhos pagaram tarifas mais altas?\n",
    "9. Quais combinações de sexo e classe apresentaram maior taxa de\n",
    "sobrevivência?"
   ]
  },
  {
   "cell_type": "markdown",
   "id": "834470f1",
   "metadata": {},
   "source": [
    "Sobre padrões e anomalias\n",
    "1. Há passageiros com idade acima de 80 anos? Eles sobreviveram?\n",
    "2. Há tarifas (Fare) muito acima da média? Esses passageiros estavam em qual\n",
    "classe?\n",
    "3. Alguma classe de passagem tem passageiros com tarifa igual a zero?\n",
    "4. Existem passageiros duplicados na base?"
   ]
  }
 ],
 "metadata": {
  "kernelspec": {
   "display_name": "Python 3",
   "language": "python",
   "name": "python3"
  },
  "language_info": {
   "codemirror_mode": {
    "name": "ipython",
    "version": 3
   },
   "file_extension": ".py",
   "mimetype": "text/x-python",
   "name": "python",
   "nbconvert_exporter": "python",
   "pygments_lexer": "ipython3",
   "version": "3.13.6"
  }
 },
 "nbformat": 4,
 "nbformat_minor": 5
}
